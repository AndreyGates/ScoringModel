{
 "cells": [
  {
   "cell_type": "markdown",
   "metadata": {
    "id": "yRm2dLh1qtgi"
   },
   "source": [
    "# **Модель расчета скоринга по заемщикам**"
   ]
  },
  {
   "cell_type": "code",
   "execution_count": 1,
   "metadata": {},
   "outputs": [],
   "source": [
    "import warnings\n",
    "warnings.filterwarnings('ignore')"
   ]
  },
  {
   "cell_type": "markdown",
   "metadata": {
    "id": "ARERmCgoq4pF"
   },
   "source": [
    "## 1. Загрузка преобразованных данных"
   ]
  },
  {
   "cell_type": "markdown",
   "metadata": {
    "id": "_Rde8--1zL05"
   },
   "source": [
    "Сначала необходимо загрузить входные данные для реализации модели предсказаний. Извлекается вкладка \"Модель\" с преобразованными для модели данными."
   ]
  },
  {
   "cell_type": "code",
   "execution_count": 2,
   "metadata": {
    "colab": {
     "base_uri": "https://localhost:8080/",
     "height": 331
    },
    "id": "zYJ3U4HzpFrQ",
    "outputId": "a795b6eb-6be6-45f2-fef1-2efd0785ea7c"
   },
   "outputs": [
    {
     "data": {
      "text/html": [
       "<div>\n",
       "<style scoped>\n",
       "    .dataframe tbody tr th:only-of-type {\n",
       "        vertical-align: middle;\n",
       "    }\n",
       "\n",
       "    .dataframe tbody tr th {\n",
       "        vertical-align: top;\n",
       "    }\n",
       "\n",
       "    .dataframe thead th {\n",
       "        text-align: right;\n",
       "    }\n",
       "</style>\n",
       "<table border=\"1\" class=\"dataframe\">\n",
       "  <thead>\n",
       "    <tr style=\"text-align: right;\">\n",
       "      <th>1</th>\n",
       "      <th>al_amount</th>\n",
       "      <th>al_issue_M_group</th>\n",
       "      <th>psp_issue_rgn_group</th>\n",
       "      <th>sex</th>\n",
       "      <th>is_client_local</th>\n",
       "      <th>has_snils</th>\n",
       "      <th>zaim_cards</th>\n",
       "      <th>age</th>\n",
       "      <th>responsecode</th>\n",
       "      <th>has_foreign_currency_credits</th>\n",
       "      <th>...</th>\n",
       "      <th>res_payout_tot_delay30</th>\n",
       "      <th>res_payout_tot_delay45</th>\n",
       "      <th>res_payout_tot_delay60</th>\n",
       "      <th>res_payout_tot_delay90</th>\n",
       "      <th>fl_cnt</th>\n",
       "      <th>fl_cnt_during_3M</th>\n",
       "      <th>fl_cnt_during_12M</th>\n",
       "      <th>fl_requests_cnt_12M</th>\n",
       "      <th>is_test</th>\n",
       "      <th>Без МФ</th>\n",
       "    </tr>\n",
       "    <tr>\n",
       "      <th>al_ContractNumber</th>\n",
       "      <th></th>\n",
       "      <th></th>\n",
       "      <th></th>\n",
       "      <th></th>\n",
       "      <th></th>\n",
       "      <th></th>\n",
       "      <th></th>\n",
       "      <th></th>\n",
       "      <th></th>\n",
       "      <th></th>\n",
       "      <th></th>\n",
       "      <th></th>\n",
       "      <th></th>\n",
       "      <th></th>\n",
       "      <th></th>\n",
       "      <th></th>\n",
       "      <th></th>\n",
       "      <th></th>\n",
       "      <th></th>\n",
       "      <th></th>\n",
       "      <th></th>\n",
       "    </tr>\n",
       "  </thead>\n",
       "  <tbody>\n",
       "    <tr>\n",
       "      <th>882-001-17</th>\n",
       "      <td>3000</td>\n",
       "      <td>1</td>\n",
       "      <td>2</td>\n",
       "      <td>1</td>\n",
       "      <td>0</td>\n",
       "      <td>0</td>\n",
       "      <td>0</td>\n",
       "      <td>2</td>\n",
       "      <td>1</td>\n",
       "      <td>0</td>\n",
       "      <td>...</td>\n",
       "      <td>4590.4</td>\n",
       "      <td>4590.4</td>\n",
       "      <td>4590.4</td>\n",
       "      <td>4590.4</td>\n",
       "      <td>1</td>\n",
       "      <td>1</td>\n",
       "      <td>1</td>\n",
       "      <td>1</td>\n",
       "      <td>0</td>\n",
       "      <td>0.25511</td>\n",
       "    </tr>\n",
       "    <tr>\n",
       "      <th>1776-001-17</th>\n",
       "      <td>5000</td>\n",
       "      <td>1</td>\n",
       "      <td>1</td>\n",
       "      <td>1</td>\n",
       "      <td>0</td>\n",
       "      <td>1</td>\n",
       "      <td>0</td>\n",
       "      <td>2</td>\n",
       "      <td>1</td>\n",
       "      <td>0</td>\n",
       "      <td>...</td>\n",
       "      <td>6500</td>\n",
       "      <td>6500</td>\n",
       "      <td>6500</td>\n",
       "      <td>6500</td>\n",
       "      <td>1</td>\n",
       "      <td>1</td>\n",
       "      <td>1</td>\n",
       "      <td>1</td>\n",
       "      <td>0</td>\n",
       "      <td>0.214343</td>\n",
       "    </tr>\n",
       "    <tr>\n",
       "      <th>2234-001-17</th>\n",
       "      <td>5000</td>\n",
       "      <td>1</td>\n",
       "      <td>1</td>\n",
       "      <td>1</td>\n",
       "      <td>0</td>\n",
       "      <td>1</td>\n",
       "      <td>0</td>\n",
       "      <td>3</td>\n",
       "      <td>1</td>\n",
       "      <td>0</td>\n",
       "      <td>...</td>\n",
       "      <td>0</td>\n",
       "      <td>0</td>\n",
       "      <td>0</td>\n",
       "      <td>0</td>\n",
       "      <td>0</td>\n",
       "      <td>0</td>\n",
       "      <td>0</td>\n",
       "      <td>0</td>\n",
       "      <td>0</td>\n",
       "      <td>0.202411</td>\n",
       "    </tr>\n",
       "    <tr>\n",
       "      <th>2649-001-17</th>\n",
       "      <td>5000</td>\n",
       "      <td>1</td>\n",
       "      <td>4</td>\n",
       "      <td>2</td>\n",
       "      <td>1</td>\n",
       "      <td>1</td>\n",
       "      <td>0</td>\n",
       "      <td>3</td>\n",
       "      <td>0</td>\n",
       "      <td>0</td>\n",
       "      <td>...</td>\n",
       "      <td>8000</td>\n",
       "      <td>8000</td>\n",
       "      <td>8000</td>\n",
       "      <td>8000</td>\n",
       "      <td>2</td>\n",
       "      <td>1</td>\n",
       "      <td>2</td>\n",
       "      <td>3</td>\n",
       "      <td>0</td>\n",
       "      <td>0.820044</td>\n",
       "    </tr>\n",
       "    <tr>\n",
       "      <th>2320-001-17</th>\n",
       "      <td>3000</td>\n",
       "      <td>1</td>\n",
       "      <td>4</td>\n",
       "      <td>2</td>\n",
       "      <td>1</td>\n",
       "      <td>1</td>\n",
       "      <td>0</td>\n",
       "      <td>3</td>\n",
       "      <td>0</td>\n",
       "      <td>0</td>\n",
       "      <td>...</td>\n",
       "      <td>3960</td>\n",
       "      <td>3960</td>\n",
       "      <td>3960</td>\n",
       "      <td>3960</td>\n",
       "      <td>1</td>\n",
       "      <td>1</td>\n",
       "      <td>1</td>\n",
       "      <td>1</td>\n",
       "      <td>0</td>\n",
       "      <td>0.925201</td>\n",
       "    </tr>\n",
       "  </tbody>\n",
       "</table>\n",
       "<p>5 rows × 58 columns</p>\n",
       "</div>"
      ],
      "text/plain": [
       "1                 al_amount al_issue_M_group psp_issue_rgn_group sex  \\\n",
       "al_ContractNumber                                                      \n",
       "882-001-17             3000                1                   2   1   \n",
       "1776-001-17            5000                1                   1   1   \n",
       "2234-001-17            5000                1                   1   1   \n",
       "2649-001-17            5000                1                   4   2   \n",
       "2320-001-17            3000                1                   4   2   \n",
       "\n",
       "1                 is_client_local has_snils zaim_cards age responsecode  \\\n",
       "al_ContractNumber                                                         \n",
       "882-001-17                      0         0          0   2            1   \n",
       "1776-001-17                     0         1          0   2            1   \n",
       "2234-001-17                     0         1          0   3            1   \n",
       "2649-001-17                     1         1          0   3            0   \n",
       "2320-001-17                     1         1          0   3            0   \n",
       "\n",
       "1                 has_foreign_currency_credits  ... res_payout_tot_delay30  \\\n",
       "al_ContractNumber                               ...                          \n",
       "882-001-17                                   0  ...                 4590.4   \n",
       "1776-001-17                                  0  ...                   6500   \n",
       "2234-001-17                                  0  ...                      0   \n",
       "2649-001-17                                  0  ...                   8000   \n",
       "2320-001-17                                  0  ...                   3960   \n",
       "\n",
       "1                 res_payout_tot_delay45 res_payout_tot_delay60  \\\n",
       "al_ContractNumber                                                 \n",
       "882-001-17                        4590.4                 4590.4   \n",
       "1776-001-17                         6500                   6500   \n",
       "2234-001-17                            0                      0   \n",
       "2649-001-17                         8000                   8000   \n",
       "2320-001-17                         3960                   3960   \n",
       "\n",
       "1                 res_payout_tot_delay90 fl_cnt fl_cnt_during_3M  \\\n",
       "al_ContractNumber                                                  \n",
       "882-001-17                        4590.4      1                1   \n",
       "1776-001-17                         6500      1                1   \n",
       "2234-001-17                            0      0                0   \n",
       "2649-001-17                         8000      2                1   \n",
       "2320-001-17                         3960      1                1   \n",
       "\n",
       "1                 fl_cnt_during_12M fl_requests_cnt_12M is_test    Без МФ  \n",
       "al_ContractNumber                                                          \n",
       "882-001-17                        1                   1       0   0.25511  \n",
       "1776-001-17                       1                   1       0  0.214343  \n",
       "2234-001-17                       0                   0       0  0.202411  \n",
       "2649-001-17                       2                   3       0  0.820044  \n",
       "2320-001-17                       1                   1       0  0.925201  \n",
       "\n",
       "[5 rows x 58 columns]"
      ]
     },
     "execution_count": 2,
     "metadata": {},
     "output_type": "execute_result"
    }
   ],
   "source": [
    "import pandas as pd\n",
    "\n",
    "xls = pd.ExcelFile('scoring.xlsx')\n",
    "df = pd.read_excel(xls, 'Модель', header=None) # загрузка необходимой вкладки\n",
    "\n",
    "# Преобразование DataFrame для удобства конвертации в числовые данные\n",
    "df.columns = df.iloc[1]\n",
    "df = df[2:]\n",
    "df.reset_index(drop=True, inplace=True)\n",
    "df.set_index('al_ContractNumber', inplace=True)\n",
    "df.head()"
   ]
  },
  {
   "cell_type": "markdown",
   "metadata": {
    "id": "ZDkTFmOurUPi"
   },
   "source": [
    "## 2. Удаление столбцов вне анализа и проверка на репрезентативность"
   ]
  },
  {
   "cell_type": "markdown",
   "metadata": {
    "id": "unGplS4CzjDT"
   },
   "source": [
    "Оставлены только столбца, которые будут предсказательными признаками, целевое поле (\"res_npl_15\") и поле \"is_test\" для последующего разделения на обучающую и тестовую выборки."
   ]
  },
  {
   "cell_type": "code",
   "execution_count": 3,
   "metadata": {
    "colab": {
     "base_uri": "https://localhost:8080/"
    },
    "id": "1qZ36OW1rWDf",
    "outputId": "47e58be9-8951-4f12-8d65-2fe6a82e6270"
   },
   "outputs": [
    {
     "data": {
      "text/plain": [
       "Index(['al_amount', 'al_issue_M_group', 'psp_issue_rgn_group', 'sex',\n",
       "       'is_client_local', 'has_snils', 'zaim_cards', 'age', 'responsecode',\n",
       "       'has_foreign_currency_credits', 'court_counts', 'official_count',\n",
       "       'has_resold_credits', 'cred_line_state', 'potreb_tot',\n",
       "       'potreb_active_tot_group', 'potreb_other_states_tot', 'pdl_tot',\n",
       "       'pdl_closed_tot', 'pdl_active_to_total_group', 'pdl_delay5_cnt',\n",
       "       'pdl_delay30_cnt', 'pdl_delay60_cnt', 'pdl_delay90_cnt',\n",
       "       'pdl_delay_more_cnt', 'pdl_prolong_cnt', 'avg_payout_period_pdl',\n",
       "       'avg_pdl_full_cost', 'avg_pdl_amount', 'pdl_delay5_avg',\n",
       "       'pdl_delay30_avg', 'pdl_delay60_avg', 'pdl_delay90_avg',\n",
       "       'pdl_delay_more_avg', 'res_npl_15', 'is_test'],\n",
       "      dtype='object', name=1)"
      ]
     },
     "execution_count": 3,
     "metadata": {},
     "output_type": "execute_result"
    }
   ],
   "source": [
    "cols = df.columns.tolist()\n",
    "to_remove = cols[34:38] + cols[39:56] + cols[-1:]\n",
    "\n",
    "df = df.loc[:, ~df.columns.isin(to_remove)]\n",
    "df.columns"
   ]
  },
  {
   "cell_type": "markdown",
   "metadata": {
    "id": "qJS_ogrWvag5"
   },
   "source": [
    "Также, проверим выборку на пропущенные значения, тип и выбросы."
   ]
  },
  {
   "cell_type": "code",
   "execution_count": 4,
   "metadata": {
    "colab": {
     "base_uri": "https://localhost:8080/"
    },
    "id": "VGqcaATH0n9y",
    "outputId": "627dd243-1f2b-4eba-d345-22b10d8eb5b2"
   },
   "outputs": [
    {
     "name": "stdout",
     "output_type": "stream",
     "text": [
      "<class 'pandas.core.frame.DataFrame'>\n",
      "Index: 9983 entries, 882-001-17 to 84312-128-17\n",
      "Data columns (total 36 columns):\n",
      " #   Column                        Non-Null Count  Dtype\n",
      "---  ------                        --------------  -----\n",
      " 0   al_amount                     9983 non-null   int32\n",
      " 1   al_issue_M_group              9983 non-null   int32\n",
      " 2   psp_issue_rgn_group           9983 non-null   int32\n",
      " 3   sex                           9983 non-null   int32\n",
      " 4   is_client_local               9983 non-null   int32\n",
      " 5   has_snils                     9983 non-null   int32\n",
      " 6   zaim_cards                    9983 non-null   int32\n",
      " 7   age                           9983 non-null   int32\n",
      " 8   responsecode                  9983 non-null   int32\n",
      " 9   has_foreign_currency_credits  9983 non-null   int32\n",
      " 10  court_counts                  9983 non-null   int32\n",
      " 11  official_count                9983 non-null   int32\n",
      " 12  has_resold_credits            9983 non-null   int32\n",
      " 13  cred_line_state               9983 non-null   int32\n",
      " 14  potreb_tot                    9983 non-null   int32\n",
      " 15  potreb_active_tot_group       9983 non-null   int32\n",
      " 16  potreb_other_states_tot       9983 non-null   int32\n",
      " 17  pdl_tot                       9983 non-null   int32\n",
      " 18  pdl_closed_tot                9983 non-null   int32\n",
      " 19  pdl_active_to_total_group     9983 non-null   int32\n",
      " 20  pdl_delay5_cnt                9983 non-null   int32\n",
      " 21  pdl_delay30_cnt               9983 non-null   int32\n",
      " 22  pdl_delay60_cnt               9983 non-null   int32\n",
      " 23  pdl_delay90_cnt               9983 non-null   int32\n",
      " 24  pdl_delay_more_cnt            9983 non-null   int32\n",
      " 25  pdl_prolong_cnt               9983 non-null   int32\n",
      " 26  avg_payout_period_pdl         9983 non-null   int32\n",
      " 27  avg_pdl_full_cost             9983 non-null   int32\n",
      " 28  avg_pdl_amount                9983 non-null   int32\n",
      " 29  pdl_delay5_avg                9983 non-null   int32\n",
      " 30  pdl_delay30_avg               9983 non-null   int32\n",
      " 31  pdl_delay60_avg               9983 non-null   int32\n",
      " 32  pdl_delay90_avg               9983 non-null   int32\n",
      " 33  pdl_delay_more_avg            9983 non-null   int32\n",
      " 34  res_npl_15                    9983 non-null   int32\n",
      " 35  is_test                       9983 non-null   int32\n",
      "dtypes: int32(36)\n",
      "memory usage: 1.4+ MB\n"
     ]
    }
   ],
   "source": [
    "df = df.astype(int)\n",
    "df.info()"
   ]
  },
  {
   "cell_type": "code",
   "execution_count": 5,
   "metadata": {
    "colab": {
     "base_uri": "https://localhost:8080/",
     "height": 393
    },
    "id": "JigFCpmx0yCO",
    "outputId": "f3b3b17d-6ee8-4c04-97b4-aaa926e1d3f0"
   },
   "outputs": [
    {
     "data": {
      "text/html": [
       "<div>\n",
       "<style scoped>\n",
       "    .dataframe tbody tr th:only-of-type {\n",
       "        vertical-align: middle;\n",
       "    }\n",
       "\n",
       "    .dataframe tbody tr th {\n",
       "        vertical-align: top;\n",
       "    }\n",
       "\n",
       "    .dataframe thead th {\n",
       "        text-align: right;\n",
       "    }\n",
       "</style>\n",
       "<table border=\"1\" class=\"dataframe\">\n",
       "  <thead>\n",
       "    <tr style=\"text-align: right;\">\n",
       "      <th>1</th>\n",
       "      <th>al_amount</th>\n",
       "      <th>al_issue_M_group</th>\n",
       "      <th>psp_issue_rgn_group</th>\n",
       "      <th>sex</th>\n",
       "      <th>is_client_local</th>\n",
       "      <th>has_snils</th>\n",
       "      <th>zaim_cards</th>\n",
       "      <th>age</th>\n",
       "      <th>responsecode</th>\n",
       "      <th>has_foreign_currency_credits</th>\n",
       "      <th>...</th>\n",
       "      <th>avg_payout_period_pdl</th>\n",
       "      <th>avg_pdl_full_cost</th>\n",
       "      <th>avg_pdl_amount</th>\n",
       "      <th>pdl_delay5_avg</th>\n",
       "      <th>pdl_delay30_avg</th>\n",
       "      <th>pdl_delay60_avg</th>\n",
       "      <th>pdl_delay90_avg</th>\n",
       "      <th>pdl_delay_more_avg</th>\n",
       "      <th>res_npl_15</th>\n",
       "      <th>is_test</th>\n",
       "    </tr>\n",
       "  </thead>\n",
       "  <tbody>\n",
       "    <tr>\n",
       "      <th>count</th>\n",
       "      <td>9983.000000</td>\n",
       "      <td>9983.000000</td>\n",
       "      <td>9983.000000</td>\n",
       "      <td>9983.000000</td>\n",
       "      <td>9983.000000</td>\n",
       "      <td>9983.000000</td>\n",
       "      <td>9983.000000</td>\n",
       "      <td>9983.000000</td>\n",
       "      <td>9983.000000</td>\n",
       "      <td>9983.000000</td>\n",
       "      <td>...</td>\n",
       "      <td>9983.000000</td>\n",
       "      <td>9983.000000</td>\n",
       "      <td>9983.000000</td>\n",
       "      <td>9983.000000</td>\n",
       "      <td>9983.000000</td>\n",
       "      <td>9983.000000</td>\n",
       "      <td>9983.000000</td>\n",
       "      <td>9983.000000</td>\n",
       "      <td>9983.000000</td>\n",
       "      <td>9983.000000</td>\n",
       "    </tr>\n",
       "    <tr>\n",
       "      <th>mean</th>\n",
       "      <td>4306.821597</td>\n",
       "      <td>1.660723</td>\n",
       "      <td>3.031153</td>\n",
       "      <td>1.274767</td>\n",
       "      <td>0.452970</td>\n",
       "      <td>0.165481</td>\n",
       "      <td>0.001703</td>\n",
       "      <td>2.153761</td>\n",
       "      <td>0.564960</td>\n",
       "      <td>0.001803</td>\n",
       "      <td>...</td>\n",
       "      <td>0.941501</td>\n",
       "      <td>1.039267</td>\n",
       "      <td>0.107583</td>\n",
       "      <td>0.007012</td>\n",
       "      <td>0.024341</td>\n",
       "      <td>0.009516</td>\n",
       "      <td>0.013924</td>\n",
       "      <td>0.011019</td>\n",
       "      <td>0.452469</td>\n",
       "      <td>0.299108</td>\n",
       "    </tr>\n",
       "    <tr>\n",
       "      <th>std</th>\n",
       "      <td>932.999154</td>\n",
       "      <td>0.860069</td>\n",
       "      <td>1.164634</td>\n",
       "      <td>0.446419</td>\n",
       "      <td>0.497808</td>\n",
       "      <td>0.371633</td>\n",
       "      <td>0.041233</td>\n",
       "      <td>0.790330</td>\n",
       "      <td>0.495787</td>\n",
       "      <td>0.042426</td>\n",
       "      <td>...</td>\n",
       "      <td>0.234697</td>\n",
       "      <td>0.194239</td>\n",
       "      <td>0.309868</td>\n",
       "      <td>0.083447</td>\n",
       "      <td>0.154114</td>\n",
       "      <td>0.097090</td>\n",
       "      <td>0.117180</td>\n",
       "      <td>0.104395</td>\n",
       "      <td>0.497761</td>\n",
       "      <td>0.457890</td>\n",
       "    </tr>\n",
       "    <tr>\n",
       "      <th>min</th>\n",
       "      <td>3000.000000</td>\n",
       "      <td>1.000000</td>\n",
       "      <td>1.000000</td>\n",
       "      <td>1.000000</td>\n",
       "      <td>0.000000</td>\n",
       "      <td>0.000000</td>\n",
       "      <td>0.000000</td>\n",
       "      <td>1.000000</td>\n",
       "      <td>0.000000</td>\n",
       "      <td>0.000000</td>\n",
       "      <td>...</td>\n",
       "      <td>0.000000</td>\n",
       "      <td>1.000000</td>\n",
       "      <td>0.000000</td>\n",
       "      <td>0.000000</td>\n",
       "      <td>0.000000</td>\n",
       "      <td>0.000000</td>\n",
       "      <td>0.000000</td>\n",
       "      <td>0.000000</td>\n",
       "      <td>0.000000</td>\n",
       "      <td>0.000000</td>\n",
       "    </tr>\n",
       "    <tr>\n",
       "      <th>25%</th>\n",
       "      <td>3000.000000</td>\n",
       "      <td>1.000000</td>\n",
       "      <td>2.000000</td>\n",
       "      <td>1.000000</td>\n",
       "      <td>0.000000</td>\n",
       "      <td>0.000000</td>\n",
       "      <td>0.000000</td>\n",
       "      <td>2.000000</td>\n",
       "      <td>0.000000</td>\n",
       "      <td>0.000000</td>\n",
       "      <td>...</td>\n",
       "      <td>1.000000</td>\n",
       "      <td>1.000000</td>\n",
       "      <td>0.000000</td>\n",
       "      <td>0.000000</td>\n",
       "      <td>0.000000</td>\n",
       "      <td>0.000000</td>\n",
       "      <td>0.000000</td>\n",
       "      <td>0.000000</td>\n",
       "      <td>0.000000</td>\n",
       "      <td>0.000000</td>\n",
       "    </tr>\n",
       "    <tr>\n",
       "      <th>50%</th>\n",
       "      <td>5000.000000</td>\n",
       "      <td>1.000000</td>\n",
       "      <td>4.000000</td>\n",
       "      <td>1.000000</td>\n",
       "      <td>0.000000</td>\n",
       "      <td>0.000000</td>\n",
       "      <td>0.000000</td>\n",
       "      <td>2.000000</td>\n",
       "      <td>1.000000</td>\n",
       "      <td>0.000000</td>\n",
       "      <td>...</td>\n",
       "      <td>1.000000</td>\n",
       "      <td>1.000000</td>\n",
       "      <td>0.000000</td>\n",
       "      <td>0.000000</td>\n",
       "      <td>0.000000</td>\n",
       "      <td>0.000000</td>\n",
       "      <td>0.000000</td>\n",
       "      <td>0.000000</td>\n",
       "      <td>0.000000</td>\n",
       "      <td>0.000000</td>\n",
       "    </tr>\n",
       "    <tr>\n",
       "      <th>75%</th>\n",
       "      <td>5000.000000</td>\n",
       "      <td>3.000000</td>\n",
       "      <td>4.000000</td>\n",
       "      <td>2.000000</td>\n",
       "      <td>1.000000</td>\n",
       "      <td>0.000000</td>\n",
       "      <td>0.000000</td>\n",
       "      <td>3.000000</td>\n",
       "      <td>1.000000</td>\n",
       "      <td>0.000000</td>\n",
       "      <td>...</td>\n",
       "      <td>1.000000</td>\n",
       "      <td>1.000000</td>\n",
       "      <td>0.000000</td>\n",
       "      <td>0.000000</td>\n",
       "      <td>0.000000</td>\n",
       "      <td>0.000000</td>\n",
       "      <td>0.000000</td>\n",
       "      <td>0.000000</td>\n",
       "      <td>1.000000</td>\n",
       "      <td>1.000000</td>\n",
       "    </tr>\n",
       "    <tr>\n",
       "      <th>max</th>\n",
       "      <td>5000.000000</td>\n",
       "      <td>3.000000</td>\n",
       "      <td>4.000000</td>\n",
       "      <td>2.000000</td>\n",
       "      <td>1.000000</td>\n",
       "      <td>1.000000</td>\n",
       "      <td>1.000000</td>\n",
       "      <td>3.000000</td>\n",
       "      <td>1.000000</td>\n",
       "      <td>1.000000</td>\n",
       "      <td>...</td>\n",
       "      <td>1.000000</td>\n",
       "      <td>2.000000</td>\n",
       "      <td>1.000000</td>\n",
       "      <td>1.000000</td>\n",
       "      <td>1.000000</td>\n",
       "      <td>1.000000</td>\n",
       "      <td>1.000000</td>\n",
       "      <td>1.000000</td>\n",
       "      <td>1.000000</td>\n",
       "      <td>1.000000</td>\n",
       "    </tr>\n",
       "  </tbody>\n",
       "</table>\n",
       "<p>8 rows × 36 columns</p>\n",
       "</div>"
      ],
      "text/plain": [
       "1        al_amount  al_issue_M_group  psp_issue_rgn_group          sex  \\\n",
       "count  9983.000000       9983.000000          9983.000000  9983.000000   \n",
       "mean   4306.821597          1.660723             3.031153     1.274767   \n",
       "std     932.999154          0.860069             1.164634     0.446419   \n",
       "min    3000.000000          1.000000             1.000000     1.000000   \n",
       "25%    3000.000000          1.000000             2.000000     1.000000   \n",
       "50%    5000.000000          1.000000             4.000000     1.000000   \n",
       "75%    5000.000000          3.000000             4.000000     2.000000   \n",
       "max    5000.000000          3.000000             4.000000     2.000000   \n",
       "\n",
       "1      is_client_local    has_snils   zaim_cards          age  responsecode  \\\n",
       "count      9983.000000  9983.000000  9983.000000  9983.000000   9983.000000   \n",
       "mean          0.452970     0.165481     0.001703     2.153761      0.564960   \n",
       "std           0.497808     0.371633     0.041233     0.790330      0.495787   \n",
       "min           0.000000     0.000000     0.000000     1.000000      0.000000   \n",
       "25%           0.000000     0.000000     0.000000     2.000000      0.000000   \n",
       "50%           0.000000     0.000000     0.000000     2.000000      1.000000   \n",
       "75%           1.000000     0.000000     0.000000     3.000000      1.000000   \n",
       "max           1.000000     1.000000     1.000000     3.000000      1.000000   \n",
       "\n",
       "1      has_foreign_currency_credits  ...  avg_payout_period_pdl  \\\n",
       "count                   9983.000000  ...            9983.000000   \n",
       "mean                       0.001803  ...               0.941501   \n",
       "std                        0.042426  ...               0.234697   \n",
       "min                        0.000000  ...               0.000000   \n",
       "25%                        0.000000  ...               1.000000   \n",
       "50%                        0.000000  ...               1.000000   \n",
       "75%                        0.000000  ...               1.000000   \n",
       "max                        1.000000  ...               1.000000   \n",
       "\n",
       "1      avg_pdl_full_cost  avg_pdl_amount  pdl_delay5_avg  pdl_delay30_avg  \\\n",
       "count        9983.000000     9983.000000     9983.000000      9983.000000   \n",
       "mean            1.039267        0.107583        0.007012         0.024341   \n",
       "std             0.194239        0.309868        0.083447         0.154114   \n",
       "min             1.000000        0.000000        0.000000         0.000000   \n",
       "25%             1.000000        0.000000        0.000000         0.000000   \n",
       "50%             1.000000        0.000000        0.000000         0.000000   \n",
       "75%             1.000000        0.000000        0.000000         0.000000   \n",
       "max             2.000000        1.000000        1.000000         1.000000   \n",
       "\n",
       "1      pdl_delay60_avg  pdl_delay90_avg  pdl_delay_more_avg   res_npl_15  \\\n",
       "count      9983.000000      9983.000000         9983.000000  9983.000000   \n",
       "mean          0.009516         0.013924            0.011019     0.452469   \n",
       "std           0.097090         0.117180            0.104395     0.497761   \n",
       "min           0.000000         0.000000            0.000000     0.000000   \n",
       "25%           0.000000         0.000000            0.000000     0.000000   \n",
       "50%           0.000000         0.000000            0.000000     0.000000   \n",
       "75%           0.000000         0.000000            0.000000     1.000000   \n",
       "max           1.000000         1.000000            1.000000     1.000000   \n",
       "\n",
       "1          is_test  \n",
       "count  9983.000000  \n",
       "mean      0.299108  \n",
       "std       0.457890  \n",
       "min       0.000000  \n",
       "25%       0.000000  \n",
       "50%       0.000000  \n",
       "75%       1.000000  \n",
       "max       1.000000  \n",
       "\n",
       "[8 rows x 36 columns]"
      ]
     },
     "execution_count": 5,
     "metadata": {},
     "output_type": "execute_result"
    }
   ],
   "source": [
    "df.describe()"
   ]
  },
  {
   "cell_type": "markdown",
   "metadata": {
    "id": "3kVieYW41azw"
   },
   "source": [
    "Пропущенных значений нет, выбросов - нет. Всего имеется 34 предсказательных признака. Данные готовы для обучения."
   ]
  },
  {
   "cell_type": "markdown",
   "metadata": {},
   "source": [
    "## 3. Статистический анализ данных"
   ]
  },
  {
   "cell_type": "markdown",
   "metadata": {},
   "source": [
    "Проверим поведение исследуемых данных для осознанного применения моделей МЛ, которые могут использовать предположение о нормальности входных данных."
   ]
  },
  {
   "cell_type": "markdown",
   "metadata": {},
   "source": [
    "Выдвинем гипотезу о том, что исходные данные подчиняются нормальному распределению."
   ]
  },
  {
   "cell_type": "code",
   "execution_count": 6,
   "metadata": {},
   "outputs": [],
   "source": [
    "#!pip install pingouin"
   ]
  },
  {
   "cell_type": "code",
   "execution_count": 7,
   "metadata": {},
   "outputs": [
    {
     "data": {
      "text/plain": [
       "HZResults(hz=39932, pval=0.0, normal=False)"
      ]
     },
     "execution_count": 7,
     "metadata": {},
     "output_type": "execute_result"
    }
   ],
   "source": [
    "from pingouin import multivariate_normality\n",
    "import pandas as pd\n",
    "import numpy as np\n",
    "\n",
    "# perform the Henze-Zirkler Multivariate Normality Test\n",
    "multivariate_normality(df.iloc[:, 0:-2], alpha=.05) # analysing without the last two columns"
   ]
  },
  {
   "cell_type": "code",
   "execution_count": 8,
   "metadata": {},
   "outputs": [
    {
     "data": {
      "text/plain": [
       "<function matplotlib.pyplot.show(close=None, block=None)>"
      ]
     },
     "execution_count": 8,
     "metadata": {},
     "output_type": "execute_result"
    },
    {
     "data": {
      "image/png": "[encoded data removed]",
      "text/plain": [
       "<Figure size 432x288 with 1 Axes>"
      ]
     },
     "metadata": {
      "needs_background": "light"
     },
     "output_type": "display_data"
    }
   ],
   "source": [
    "from statsmodels.graphics.gofplots import qqplot\n",
    "from matplotlib import pyplot as plt\n",
    "\n",
    "qqplot(df.iloc[:, 0:-2], line='s')\n",
    "plt.show"
   ]
  },
  {
   "cell_type": "markdown",
   "metadata": {},
   "source": [
    "Тест Хенза-Зиклира на многоразмерное нормальное распределение и QQ-график дает нам понять, что исходные данные не подчиняюся нормальному распределению (p-value -> 0.0). Гипотеза опровергнута. <br>\n",
    "Значит, не следует использовать в качестве моделей обучения алгоритмы дискриминантного анализа (LDA, QDA). Остальные классические варианты претерпят данное поведеление, но точность может быть неабсолютной."
   ]
  },
  {
   "cell_type": "markdown",
   "metadata": {
    "id": "uEJ83MHo2pFJ"
   },
   "source": [
    "## 4. Разделение исходных данных на обучающую и тестовую выборки"
   ]
  },
  {
   "cell_type": "markdown",
   "metadata": {
    "id": "yAhrPNGQzK9_"
   },
   "source": [
    "Выборка разделяется для обучения и теста согласно полю \"is_test\"."
   ]
  },
  {
   "cell_type": "code",
   "execution_count": 9,
   "metadata": {
    "id": "wsDgxCQpwInB"
   },
   "outputs": [],
   "source": [
    "train_df = df.loc[df['is_test'] == 0]\n",
    "test_df = df.loc[df['is_test'] == 1]\n",
    "\n",
    "X_train = train_df.iloc[:, 0:-2].to_numpy()\n",
    "y_train = train_df.iloc[:, -2].to_numpy() # res_npl_15\n",
    "\n",
    "X_test = test_df.iloc[:, 0:-2].to_numpy()\n",
    "y_test = test_df.iloc[:, -2].to_numpy() # res_npl_15"
   ]
  },
  {
   "cell_type": "markdown",
   "metadata": {},
   "source": [
    "## 5. Важность признаков"
   ]
  },
  {
   "cell_type": "markdown",
   "metadata": {},
   "source": [
    "С помощью рандомного леса рассчитаем показатели важности предикторов через их влияние на примеси в узлах деревьев. Таким образом мы сможем отобрать те признаки данных, которые более ответственные за выборку в целом."
   ]
  },
  {
   "cell_type": "code",
   "execution_count": 10,
   "metadata": {},
   "outputs": [
    {
     "data": {
      "image/png": "[encoded data removed]",
      "text/plain": [
       "<Figure size 432x288 with 1 Axes>"
      ]
     },
     "metadata": {
      "needs_background": "light"
     },
     "output_type": "display_data"
    }
   ],
   "source": [
    "from sklearn.ensemble import RandomForestClassifier\n",
    "\n",
    "feature_names = df.columns[:-2]\n",
    "forest = RandomForestClassifier(random_state=0)\n",
    "forest.fit(X_train, y_train)\n",
    "\n",
    "importances = forest.feature_importances_\n",
    "std = np.std([tree.feature_importances_ for tree in forest.estimators_], axis=0)\n",
    "\n",
    "forest_importances = pd.Series(importances, index=feature_names)\n",
    "\n",
    "fig, ax = plt.subplots()\n",
    "forest_importances.plot.bar(yerr=std, ax=ax)\n",
    "ax.set_title(\"Feature importances using MDI\")\n",
    "ax.set_ylabel(\"Mean decrease in impurity\")\n",
    "fig.tight_layout()"
   ]
  },
  {
   "cell_type": "markdown",
   "metadata": {},
   "source": [
    "Также, найдем признаки, с которыми больше всего коррелирует целевая переменная (res_npl_15)."
   ]
  },
  {
   "cell_type": "code",
   "execution_count": 11,
   "metadata": {},
   "outputs": [
    {
     "data": {
      "text/plain": [
       "1\n",
       "res_npl_15                      1.000000\n",
       "psp_issue_rgn_group             0.210360\n",
       "potreb_active_tot_group         0.142739\n",
       "al_issue_M_group                0.104487\n",
       "is_client_local                 0.090940\n",
       "age                             0.085172\n",
       "sex                             0.081095\n",
       "avg_payout_period_pdl           0.069668\n",
       "cred_line_state                 0.053860\n",
       "pdl_active_to_total_group       0.009905\n",
       "has_foreign_currency_credits    0.008802\n",
       "zaim_cards                      0.001503\n",
       "is_test                        -0.004428\n",
       "pdl_delay5_avg                 -0.013682\n",
       "has_snils                      -0.018673\n",
       "court_counts                   -0.035594\n",
       "pdl_delay5_cnt                 -0.037083\n",
       "pdl_delay60_avg                -0.043500\n",
       "official_count                 -0.044227\n",
       "pdl_delay_more_avg             -0.063180\n",
       "pdl_delay60_cnt                -0.066759\n",
       "pdl_delay90_avg                -0.070236\n",
       "pdl_delay30_avg                -0.076984\n",
       "pdl_closed_tot                 -0.080302\n",
       "pdl_delay_more_cnt             -0.081049\n",
       "potreb_other_states_tot        -0.087365\n",
       "avg_pdl_full_cost              -0.097780\n",
       "pdl_delay90_cnt                -0.099030\n",
       "pdl_delay30_cnt                -0.099505\n",
       "has_resold_credits             -0.116537\n",
       "al_amount                      -0.124665\n",
       "avg_pdl_amount                 -0.137015\n",
       "pdl_prolong_cnt                -0.174346\n",
       "pdl_tot                        -0.174346\n",
       "potreb_tot                     -0.314725\n",
       "responsecode                   -0.472896\n",
       "Name: res_npl_15, dtype: float64"
      ]
     },
     "execution_count": 11,
     "metadata": {},
     "output_type": "execute_result"
    }
   ],
   "source": [
    "corr_matrix = df.corr()\n",
    "corr_matrix['res_npl_15'].sort_values(ascending=False)"
   ]
  },
  {
   "cell_type": "markdown",
   "metadata": {},
   "source": [
    "На основе диаграммы и показателей корреляции, было решено о дальнейшем использовании признаков №0-5, №7-8 и №14-15 (по порядку положительного направления OX на диаграмме)."
   ]
  },
  {
   "cell_type": "code",
   "execution_count": 12,
   "metadata": {},
   "outputs": [],
   "source": [
    "picked_features = [0, 1, 2, 3, 4, 5, 7, 8, 14, 15] \n",
    "\n",
    "X_train = X_train[:, picked_features]\n",
    "X_test = X_test[:, picked_features]"
   ]
  },
  {
   "cell_type": "markdown",
   "metadata": {
    "id": "EaM10Rjd4W52"
   },
   "source": [
    "## 6. Создание моделей и обучение"
   ]
  },
  {
   "cell_type": "markdown",
   "metadata": {},
   "source": [
    "Для начала над данными применяется стандартизация для более эффективного обучения модели."
   ]
  },
  {
   "cell_type": "code",
   "execution_count": 13,
   "metadata": {},
   "outputs": [],
   "source": [
    "from sklearn.preprocessing import StandardScaler\n",
    "\n",
    "scaler = StandardScaler()\n",
    "X_train = scaler.fit_transform(X_train)\n",
    "X_test = scaler.transform(X_test)"
   ]
  },
  {
   "cell_type": "markdown",
   "metadata": {
    "id": "GLfGxojOMdjo"
   },
   "source": [
    "Исследуем нескольких моделей классификации и определим их наилучшие показатели используемой метрики (ROC AUC) после применения RandomizedSearchCV на кросс-валидации с k = 10. В конце применяем лучшие модели-предикторы на тестовой выборке и найденные значения ROC AUC конвертируем в коэффициент Gini (Gini = 2*AUC-1) для более удобного анализа скоринга."
   ]
  },
  {
   "cell_type": "code",
   "execution_count": 14,
   "metadata": {},
   "outputs": [],
   "source": [
    "from sklearn.linear_model import LogisticRegression\n",
    "from sklearn.svm import SVC\n",
    "from sklearn.ensemble import RandomForestClassifier, GradientBoostingClassifier\n",
    "\n",
    "from sklearn.metrics import roc_auc_score\n",
    "\n",
    "from scipy.stats import loguniform, uniform, randint\n",
    "from sklearn.model_selection import RandomizedSearchCV\n",
    "\n",
    "def gini_output(X_test, y_test, classifier):\n",
    "    print('Best Gini score: ', 2 * classifier.best_score_ - 1) # Gini = 2*ROC_AUC - 1\n",
    "    print('Hyperparameters: ', classifier.best_params_)"
   ]
  },
  {
   "cell_type": "markdown",
   "metadata": {},
   "source": [
    "#### Logistic Regression"
   ]
  },
  {
   "cell_type": "code",
   "execution_count": 15,
   "metadata": {},
   "outputs": [
    {
     "name": "stdout",
     "output_type": "stream",
     "text": [
      "Best Gini score:  0.5992132441067908\n",
      "Hyperparameters:  {'C': 14.028057068813272, 'penalty': 'l2', 'solver': 'liblinear'}\n"
     ]
    }
   ],
   "source": [
    "space = {\"solver\": ['newton-cg', 'lbfgs', 'liblinear'],\n",
    "         \"penalty\" : ['none', 'l1', 'l2', 'elasticnet'],\n",
    "         \"C\": loguniform(1e-5, 100)}\n",
    "\n",
    "log_reg = LogisticRegression()\n",
    "GS_1 = RandomizedSearchCV(log_reg, space, n_iter=50, scoring='roc_auc', n_jobs=-1, cv=10, random_state=1)\n",
    "GS_1.fit(X_train, y_train)\n",
    "\n",
    "gini_output(X_test, y_test, GS_1)"
   ]
  },
  {
   "cell_type": "markdown",
   "metadata": {},
   "source": [
    "#### Random Forest"
   ]
  },
  {
   "cell_type": "code",
   "execution_count": 16,
   "metadata": {},
   "outputs": [
    {
     "name": "stdout",
     "output_type": "stream",
     "text": [
      "Best Gini score:  0.611298104726318\n",
      "Hyperparameters:  {'bootstrap': True, 'criterion': 'entropy', 'max_depth': 6, 'max_features': 4, 'min_samples_leaf': 6, 'min_samples_split': 2, 'n_estimators': 742}\n"
     ]
    }
   ],
   "source": [
    "space = {\"max_depth\": randint(3, 10),\n",
    "         \"n_estimators\" : randint(100, 1000),\n",
    "         \"max_features\": randint(1, 11),\n",
    "         \"min_samples_split\": randint(1, 11),\n",
    "         \"min_samples_leaf\": randint(1, 11),\n",
    "         \"bootstrap\": [True, False],\n",
    "         \"criterion\": [\"gini\", \"entropy\"]}\n",
    "forest = RandomForestClassifier()\n",
    "GS_2 = RandomizedSearchCV(forest, space, n_iter=50, scoring='roc_auc', n_jobs=-1, cv=10, random_state=1)\n",
    "GS_2.fit(X_train, y_train)\n",
    "\n",
    "gini_output(X_test, y_test, GS_2)"
   ]
  },
  {
   "cell_type": "markdown",
   "metadata": {},
   "source": [
    "#### Support Vector Machine"
   ]
  },
  {
   "cell_type": "code",
   "execution_count": 17,
   "metadata": {},
   "outputs": [
    {
     "name": "stdout",
     "output_type": "stream",
     "text": [
      "Best Gini score:  0.5776216046280882\n",
      "Hyperparameters:  {'C': 1.805498110203051, 'gamma': 0.04986509881045028}\n"
     ]
    }
   ],
   "source": [
    "space = {\"C\": loguniform(1e-5, 100), \"gamma\": loguniform(0.01, 1)}\n",
    "svm = SVC()\n",
    "GS_3 = RandomizedSearchCV(svm, space, n_iter=50, scoring='roc_auc', n_jobs=-1, cv=10, random_state=1)\n",
    "GS_3.fit(X_train, y_train)\n",
    "\n",
    "gini_output(X_test, y_test, GS_3)"
   ]
  },
  {
   "cell_type": "markdown",
   "metadata": {},
   "source": [
    "#### Gradient Boosting"
   ]
  },
  {
   "cell_type": "code",
   "execution_count": 18,
   "metadata": {
    "colab": {
     "base_uri": "https://localhost:8080/"
    },
    "id": "xVdvhMxeEPKL",
    "outputId": "5e349124-2463-4398-da9a-75b6e8403ea4"
   },
   "outputs": [
    {
     "name": "stdout",
     "output_type": "stream",
     "text": [
      "Best Gini score:  0.5978495640897221\n",
      "Hyperparameters:  {'learning_rate': 0.044551878544761725, 'max_depth': 4, 'n_estimators': 620, 'subsample': 0.2257093386078547}\n"
     ]
    }
   ],
   "source": [
    "space = {\"learning_rate\": uniform(),\n",
    "         \"subsample\"    : uniform(),\n",
    "         \"n_estimators\" : randint(100, 1000),\n",
    "         \"max_depth\"    : randint(4, 10)}\n",
    "gboost = GradientBoostingClassifier()\n",
    "GS_4 = RandomizedSearchCV(gboost, space, n_iter=50, scoring='roc_auc', n_jobs=-1, cv=10, random_state=1)\n",
    "GS_4.fit(X_train, y_train)\n",
    "\n",
    "gini_output(X_test, y_test, GS_4)"
   ]
  },
  {
   "cell_type": "markdown",
   "metadata": {},
   "source": [
    "#### XGBoost"
   ]
  },
  {
   "cell_type": "code",
   "execution_count": 20,
   "metadata": {},
   "outputs": [
    {
     "name": "stdout",
     "output_type": "stream",
     "text": [
      "Collecting xgboost\n",
      "  Downloading xgboost-1.7.2-py3-none-win_amd64.whl (89.1 MB)\n",
      "Requirement already satisfied: numpy in c:\\users\\pisar\\anaconda3\\lib\\site-packages (from xgboost) (1.21.5)\n",
      "Requirement already satisfied: scipy in c:\\users\\pisar\\anaconda3\\lib\\site-packages (from xgboost) (1.7.3)\n",
      "Installing collected packages: xgboost\n",
      "Successfully installed xgboost-1.7.2\n"
     ]
    }
   ],
   "source": [
    "!pip install xgboost"
   ]
  },
  {
   "cell_type": "code",
   "execution_count": 22,
   "metadata": {},
   "outputs": [
    {
     "name": "stdout",
     "output_type": "stream",
     "text": [
      "Best Gini score:  0.6150968076596715\n",
      "Hyperparameters:  {'colsample_bytree': 0.7, 'gamma': 0.08211256449180217, 'learning_rate': 0.07267702383040954, 'max_depth': 4, 'min_child_weight': 7}\n"
     ]
    }
   ],
   "source": [
    "import xgboost as xgb\n",
    "\n",
    "space = {\"learning_rate\": loguniform(0.01, 1),\n",
    "         \"min_child_weight\": randint(1, 10),\n",
    "         \"gamma\": loguniform(0.01, 1),\n",
    "         \"colsample_bytree\": [0.3, 0.4, 0.5, 0.7],\n",
    "         \"max_depth\": randint(4, 10)}\n",
    "\n",
    "xgb_cl = xgb.XGBClassifier()\n",
    "GS_5 = RandomizedSearchCV(xgb_cl, space, n_iter=50, scoring='roc_auc', n_jobs=-1, cv=10, random_state=1)\n",
    "GS_5.fit(X_train, y_train)\n",
    "\n",
    "gini_output(X_test, y_test, GS_5) "
   ]
  },
  {
   "cell_type": "markdown",
   "metadata": {},
   "source": [
    "После анализа эффективности моделей решено об использовании XGBoost как основной модели для дальнейшей работы с данными (помимо точности, выигрывает во времени)."
   ]
  },
  {
   "cell_type": "code",
   "execution_count": 25,
   "metadata": {
    "colab": {
     "base_uri": "https://localhost:8080/"
    },
    "id": "6ji_rLDdU81v",
    "outputId": "e5e7bf3a-6178-41eb-8e2b-79f1ce8a09c5"
   },
   "outputs": [],
   "source": [
    "from sklearn.metrics import classification_report, confusion_matrix\n",
    "\n",
    "model = GS_5.best_estimator_\n",
    "y_pred = model.predict(X_test)\n",
    "cm = confusion_matrix(y_test, y_pred)\n",
    "#print(classification_report(y_test, y_pred, target_names=['Не выплатил (0)', 'Выплатил (1)']))\n",
    "#print(confusion_matrix(y_test, y_pred))"
   ]
  },
  {
   "cell_type": "code",
   "execution_count": 26,
   "metadata": {
    "colab": {
     "base_uri": "https://localhost:8080/",
     "height": 295
    },
    "id": "Fj2o9X4wWpGl",
    "outputId": "358415b2-fa74-423c-fedb-f4239aae1677"
   },
   "outputs": [
    {
     "data": {
      "image/png": "[encoded data removed]",
      "text/plain": [
       "<Figure size 432x288 with 2 Axes>"
      ]
     },
     "metadata": {
      "needs_background": "light"
     },
     "output_type": "display_data"
    }
   ],
   "source": [
    "import seaborn as sns\n",
    "import matplotlib.pyplot as plt     \n",
    "\n",
    "ax= plt.subplot()\n",
    "sns.heatmap(cm, annot=True, fmt='g', ax=ax);\n",
    "\n",
    "ax.set_xlabel('Predicted labels');ax.set_ylabel('True labels'); \n",
    "ax.set_title('Отчет о выплате кредита в первые 15 дней просрочки'); \n",
    "ax.xaxis.set_ticklabels(['Не выплатил', 'Выплатил']); ax.yaxis.set_ticklabels(['Не выплатил', 'Выплатил']);"
   ]
  },
  {
   "cell_type": "markdown",
   "metadata": {
    "id": "U0UIhiHhZnHs"
   },
   "source": [
    "## 7. Вывод вероятности оплаты кредита в первые 15 дней после просрочки"
   ]
  },
  {
   "cell_type": "code",
   "execution_count": 27,
   "metadata": {
    "id": "UH-W427WZxoA"
   },
   "outputs": [],
   "source": [
    "def npl_15_prob(loaner, model):\n",
    "    probs = model.predict_proba(loaner.reshape(1, -1))\n",
    "    return f'Вероятность оплаты кредита в первые 15 дней после просрочки: {round(probs[0][1], 2)}'"
   ]
  },
  {
   "cell_type": "code",
   "execution_count": 28,
   "metadata": {
    "colab": {
     "base_uri": "https://localhost:8080/"
    },
    "id": "j57WU09CaggS",
    "outputId": "dd5e6192-a5aa-4969-f4ab-bbfd5ed30449"
   },
   "outputs": [
    {
     "name": "stdout",
     "output_type": "stream",
     "text": [
      "Вероятность оплаты кредита в первые 15 дней после просрочки: 0.6800000071525574\n"
     ]
    }
   ],
   "source": [
    "print(npl_15_prob(X_test[0], model)) # проверка на первом клиенте из тестовой выборки"
   ]
  },
  {
   "cell_type": "markdown",
   "metadata": {
    "id": "xfjugQz4bxdA"
   },
   "source": [
    "На практике данные о клиенте будут извлекаться из базы данных по номеру его контракта ('al_ContractNumber')."
   ]
  },
  {
   "cell_type": "code",
   "execution_count": null,
   "metadata": {
    "id": "5kf2sDelcJF6"
   },
   "outputs": [],
   "source": []
  }
 ],
 "metadata": {
  "accelerator": "GPU",
  "colab": {
   "provenance": []
  },
  "gpuClass": "standard",
  "kernelspec": {
   "display_name": "Python 3 (ipykernel)",
   "language": "python",
   "name": "python3"
  },
  "language_info": {
   "codemirror_mode": {
    "name": "ipython",
    "version": 3
   },
   "file_extension": ".py",
   "mimetype": "text/x-python",
   "name": "python",
   "nbconvert_exporter": "python",
   "pygments_lexer": "ipython3",
   "version": "3.9.12"
  }
 },
 "nbformat": 4,
 "nbformat_minor": 4
}
